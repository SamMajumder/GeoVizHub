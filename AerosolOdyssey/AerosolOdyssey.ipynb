{
  "nbformat": 4,
  "nbformat_minor": 0,
  "metadata": {
    "colab": {
      "provenance": []
    },
    "kernelspec": {
      "name": "python3",
      "display_name": "Python 3"
    },
    "language_info": {
      "name": "python"
    }
  },
  "cells": [
    {
      "cell_type": "markdown",
      "source": [
        "**Introduction:**\n",
        "\n",
        "The script delineated below encompasses a series of operations aimed at geospatial analysis and visualization utilizing various Python libraries and Google Earth Engine (GEE). The primary focus is on extracting, processing, and visualizing geospatial data over a specified region and time frame. Notable functionalities include reading geometries from files, converting geometries to GEE format, filtering datasets based on geographical bounds and time, and visualizing and exporting monthly mean Earth Engine images using Folium maps."
      ],
      "metadata": {
        "id": "AAEqZUJvE5q3"
      }
    },
    {
      "cell_type": "markdown",
      "source": [
        "**Import Statements:**\n",
        "Importing necessary libraries and modules for data manipulation, geospatial analysis, and visualization:"
      ],
      "metadata": {
        "id": "rrD_l8oVrVcn"
      }
    },
    {
      "cell_type": "code",
      "execution_count": null,
      "metadata": {
        "id": "CkVFlD_3pwUl"
      },
      "outputs": [],
      "source": [
        "!pip install rasterio\n",
        "import ee\n",
        "import pandas as pd\n",
        "import folium\n",
        "import os\n",
        "import rasterio\n",
        "import geopandas as gpd\n",
        "import shapely"
      ]
    },
    {
      "cell_type": "markdown",
      "source": [
        "**Earth Engine Initialization:**\n",
        "Authentication and initialization of the Google Earth Engine API"
      ],
      "metadata": {
        "id": "XIyD9hI4svKh"
      }
    },
    {
      "cell_type": "code",
      "source": [
        "ee.Authenticate()\n",
        "ee.Initialize()\n"
      ],
      "metadata": {
        "id": "EvU1XJLwsyBW"
      },
      "execution_count": null,
      "outputs": []
    },
    {
      "cell_type": "markdown",
      "source": [
        "Function: **read_geometry**\n",
        "\n",
        "Reading a geometry from a file (e.g., GeoJSON, Shapefile) and returning a specified feature's geometry:"
      ],
      "metadata": {
        "id": "A002eCwFs0Jj"
      }
    },
    {
      "cell_type": "code",
      "source": [
        "def read_geometry(filepath, feature_idx=0):\n",
        "    \"\"\"\n",
        "    Reads a file (GeoJSON, Shapefile, etc.) and returns a specific feature geometry.\n",
        "\n",
        "    Parameters:\n",
        "        filepath (str): Path to the file.\n",
        "        feature_idx (int): Index of the feature to extract. Defaults to 0.\n",
        "\n",
        "    Returns:\n",
        "        geometry (shapely.geometry): Geometry of the specified feature.\n",
        "    \"\"\"\n",
        "    try:\n",
        "        geo_data = gpd.read_file(filepath)\n",
        "        geometry = geo_data.geometry.iloc[feature_idx]\n",
        "        return geometry\n",
        "    except FileNotFoundError:\n",
        "        raise ValueError(f\"File not found: {filepath}\")\n",
        "    except IndexError:\n",
        "        raise ValueError(f\"Feature index {feature_idx} out of range\")"
      ],
      "metadata": {
        "id": "YbT_k2D1s54R"
      },
      "execution_count": null,
      "outputs": []
    },
    {
      "cell_type": "markdown",
      "source": [
        "Function: **shapely_to_ee**\n",
        "\n",
        "Converting Shapely geometry to Earth Engine geometry"
      ],
      "metadata": {
        "id": "uIr5KbbytCW-"
      }
    },
    {
      "cell_type": "code",
      "source": [
        "def shapely_to_ee(geometry):\n",
        "    \"\"\"\n",
        "    Converts a Shapely geometry to an Earth Engine geometry.\n",
        "\n",
        "    Parameters:\n",
        "        geometry (shapely.geometry): Geometry to convert.\n",
        "\n",
        "    Returns:\n",
        "        ee_geometry (ee.Geometry): Converted Earth Engine geometry.\n",
        "        geo_coords (list): List of coordinates suitable for the \"region\" parameter in Earth Engine export methods.\n",
        "    \"\"\"\n",
        "    if isinstance(geometry, shapely.geometry.multipolygon.MultiPolygon):\n",
        "        ee_polygons = [ee.Geometry.Polygon(list(polygon.exterior.coords)) for polygon in geometry.geoms]\n",
        "        ee_geometry = ee.Geometry.MultiPolygon(ee_polygons)\n",
        "        # Extract coordinates from the first polygon as an example\n",
        "        # Note: You might want to adjust this to fit your specific use case\n",
        "        geo_coords = [list(coord) for coord in geometry.geoms[0].exterior.coords]\n",
        "    elif isinstance(geometry, shapely.geometry.polygon.Polygon):\n",
        "        ee_geometry = ee.Geometry.Polygon(list(geometry.exterior.coords))\n",
        "        geo_coords = [list(coord) for coord in geometry.exterior.coords]\n",
        "    else:\n",
        "        raise ValueError(f\"Unsupported geometry type: {type(geometry)}\")\n",
        "\n",
        "    return ee_geometry, geo_coords"
      ],
      "metadata": {
        "id": "uVaJ7iLktJQZ"
      },
      "execution_count": null,
      "outputs": []
    },
    {
      "cell_type": "markdown",
      "source": [
        "**Geometry Reading and Conversion:**\n",
        "\n",
        "Loading a specific geometry from a file and converting it to Earth Engine geometry. Data source for the shapefile: Delhi_Boundary.shp by Data Meet India community (https://datameet.org/) (CC BY 4.0)"
      ],
      "metadata": {
        "id": "V0vId5MUtePq"
      }
    },
    {
      "cell_type": "code",
      "source": [
        "filepath = '/content/Delhi_Boundary.shp'\n",
        "feature_idx = 0\n",
        "geometry = read_geometry(filepath, feature_idx)\n",
        "ee_geometry, geo_coords = shapely_to_ee(geometry)"
      ],
      "metadata": {
        "id": "4T9NNOYytjqm"
      },
      "execution_count": null,
      "outputs": []
    },
    {
      "cell_type": "markdown",
      "source": [
        "**Dataset Filtering:**\n",
        "\n",
        "Defining and filtering a dataset for a specific region and time period. Dataset provider: ***European Union/ESA/Copernicus***"
      ],
      "metadata": {
        "id": "65cp80uptoCy"
      }
    },
    {
      "cell_type": "code",
      "source": [
        "dataset = ee.ImageCollection('COPERNICUS/S5P/NRTI/L3_AER_AI')\n",
        "filtered_data = dataset.filterBounds(ee_geometry).filterDate(ee.Date('2018-07-11'), ee.Date('2023-09-14'))\n"
      ],
      "metadata": {
        "id": "rGs8mpBettlQ"
      },
      "execution_count": null,
      "outputs": []
    },
    {
      "cell_type": "markdown",
      "source": [
        "Function: **calculate_monthly_mean**\n",
        "\n",
        "Calculating the monthly mean for a specified band, region, and time period"
      ],
      "metadata": {
        "id": "uOoxB-7Ut7gq"
      }
    },
    {
      "cell_type": "code",
      "source": [
        "def calculate_monthly_mean(filtered_data, ee_geometry, start_date, end_date, band_name=None):\n",
        "    # If band_name is not provided, automatically detect it\n",
        "    if not band_name:\n",
        "        # Get the band names from the first image in the dataset\n",
        "        first_image = filtered_data.first()\n",
        "        available_bands = first_image.bandNames().getInfo()\n",
        "\n",
        "        # If there's only one band, use it. Otherwise, raise an error.\n",
        "        if len(available_bands) == 1:\n",
        "            band_name = available_bands[0]\n",
        "        else:\n",
        "            raise ValueError(f\"Multiple bands detected: {available_bands}. Please specify the band_name argument.\")\n",
        "\n",
        "    monthly_data = filtered_data.filterDate(ee.Date(start_date), ee.Date(end_date))\n",
        "    monthly_mean = monthly_data.select(band_name).mean().clip(ee_geometry)\n",
        "    return monthly_mean"
      ],
      "metadata": {
        "id": "-wnvcKU4t-kQ"
      },
      "execution_count": null,
      "outputs": []
    },
    {
      "cell_type": "markdown",
      "source": [
        "Function: **calculate_monthly_means**\n",
        "\n",
        "Looping through specified years and months to calculate monthly mean values for each month"
      ],
      "metadata": {
        "id": "wt-3-tLzumMf"
      }
    },
    {
      "cell_type": "code",
      "source": [
        "def calculate_monthly_means(filtered_data, ee_geometry, start_year=2018, end_year=2023, start_month=11, end_month=8, band_name=None):\n",
        "    monthly_mean_images = []\n",
        "    for year in range(start_year, end_year + 1):\n",
        "        for month in range(1, 13):\n",
        "            # Adjust month range based on year\n",
        "            month_start = start_month if year == start_year else 1\n",
        "            month_end = end_month if year == end_year else 12\n",
        "\n",
        "            if month < month_start or month > month_end:\n",
        "                continue\n",
        "\n",
        "            # Determine the number of days in the month\n",
        "            days_in_month = 28\n",
        "            if month == 2 and ((year % 4 == 0 and year % 100 != 0) or (year % 400 == 0)):\n",
        "                days_in_month = 29\n",
        "            elif month in [1, 3, 5, 7, 8, 10, 12]:\n",
        "                days_in_month = 31\n",
        "\n",
        "            # Define start and end dates for each month\n",
        "            start_date = f\"{year}-{month:02}-01\"\n",
        "            end_date = f\"{year}-{month:02}-{days_in_month}\"\n",
        "\n",
        "            # Calculate the monthly mean\n",
        "            monthly_mean = calculate_monthly_mean(filtered_data, ee_geometry, start_date, end_date, band_name)\n",
        "            monthly_mean_images.append(monthly_mean)\n",
        "\n",
        "    return monthly_mean_images"
      ],
      "metadata": {
        "id": "CgmhlVqkuqxu"
      },
      "execution_count": null,
      "outputs": []
    },
    {
      "cell_type": "markdown",
      "source": [
        "Function: **visualize_monthly_mean_images_and_export**\n",
        "\n",
        "Visualizing and exporting monthly mean images using Folium maps"
      ],
      "metadata": {
        "id": "tGnMk4k2vmkh"
      }
    },
    {
      "cell_type": "code",
      "source": [
        "def visualize_monthly_mean_images_and_export(\n",
        "    monthly_mean_images,\n",
        "    output_directory,\n",
        "    start_year=2018,\n",
        "    start_month=11,\n",
        "    end_year=2023,\n",
        "    end_month=8,\n",
        "    location_bounds=None,\n",
        "    zoom_start=10,\n",
        "    vis_params=None,\n",
        "    label_location=None,\n",
        "    name_prefix=None,\n",
        "    display_maps=True\n",
        "):\n",
        "    \"\"\"\n",
        "    Visualizes a list of monthly mean Earth Engine images as Folium maps with customizable parameters and exports them as HTML files.\n",
        "    \"\"\"\n",
        "    # Create the output directory if it doesn't exist\n",
        "    os.makedirs(output_directory, exist_ok=True)\n",
        "\n",
        "    current_year = start_year\n",
        "    current_month = start_month\n",
        "\n",
        "    for i, monthly_mean_image in enumerate(monthly_mean_images):\n",
        "        # Create a Folium map centered on the specified location or the center of the image\n",
        "        if location_bounds:\n",
        "            m = folium.Map(location=[(location_bounds[0][0] + location_bounds[1][0]) / 2,\n",
        "                                     (location_bounds[0][1] + location_bounds[1][1]) / 2],\n",
        "                           zoom_start=zoom_start)\n",
        "        else:\n",
        "            # Get the center of the image's region and use it as the default location\n",
        "            center = monthly_mean_image.geometry().centroid().getInfo()['coordinates']\n",
        "            m = folium.Map(location=[center[1], center[0]], zoom_start=zoom_start)\n",
        "\n",
        "        # Get the map ID for the monthly mean image\n",
        "        vis_params = vis_params or {\n",
        "            'min': 0,\n",
        "            'max': 0.0005,\n",
        "            'palette': ['blue', 'green', 'yellow', 'red']\n",
        "        }\n",
        "        map_id_dict = monthly_mean_image.getMapId(vis_params)\n",
        "\n",
        "        # Add the image as a TileLayer to the map\n",
        "        file_index = i + 1\n",
        "        file_name = f\"{file_index}_{current_month}_{current_year}\"\n",
        "        folium.TileLayer(\n",
        "            tiles=map_id_dict['tile_fetcher'].url_format,\n",
        "            attr='Map Data &copy; <a href=\"https://earthengine.google.com/\">Google Earth Engine</a>',\n",
        "            overlay=True,\n",
        "            name=file_name,\n",
        "        ).add_to(m)\n",
        "\n",
        "        # Create a label with the month and year as numbers\n",
        "        if label_location:\n",
        "            folium.Marker(\n",
        "                location=label_location,\n",
        "                icon=folium.DivIcon(html=f\"\"\"<div style=\"background-color: transparent; padding: 5px; border-radius: 5px; font-size: 18px; font-weight: bold;\">{current_month}/{current_year}</div>\"\"\")\n",
        "            ).add_to(m)\n",
        "\n",
        "        # Export the map as an HTML file\n",
        "        filename = os.path.join(output_directory, f\"{file_name}.html\")\n",
        "        m.save(filename)\n",
        "\n",
        "        # Increment the month and year\n",
        "        current_month += 1\n",
        "        if current_month > 12:\n",
        "            current_month = 1\n",
        "            current_year += 1\n",
        "\n",
        "        # Check if we've reached the end date\n",
        "        if current_year > end_year or (current_year == end_year and current_month > end_month):\n",
        "            break\n",
        "\n",
        "        # Display the map interactively if specified\n",
        "        if display_maps:\n",
        "            display(m)"
      ],
      "metadata": {
        "id": "U9L0herLvrT7"
      },
      "execution_count": null,
      "outputs": []
    },
    {
      "cell_type": "markdown",
      "source": [
        "**Monthly Mean Calculation:**\n",
        "\n",
        "Executing the monthly mean calculation for a specified time period and band"
      ],
      "metadata": {
        "id": "dphlNIXZuyOq"
      }
    },
    {
      "cell_type": "code",
      "source": [
        "start_year = 2018\n",
        "end_year = 2023\n",
        "start_month = 11\n",
        "end_month = 8\n",
        "# Using a different band name\n",
        "monthly_mean_images = calculate_monthly_means(filtered_data, ee_geometry, start_year = start_year,\n",
        "                                              end_year = end_year, start_month = start_month,\n",
        "                                              end_month = end_month,\n",
        "                                              band_name='absorbing_aerosol_index')"
      ],
      "metadata": {
        "id": "YZJOWNHOuwLH"
      },
      "execution_count": null,
      "outputs": []
    },
    {
      "cell_type": "markdown",
      "source": [
        "**Visualization and Export:**\n",
        "\n",
        "Executing the visualization and export of monthly mean images with specified parameters"
      ],
      "metadata": {
        "id": "a0_V-Zfvv5GQ"
      }
    },
    {
      "cell_type": "code",
      "source": [
        "output_directory = '/content/drive/MyDrive/Aerosol_sentinnel_near_real_time_images'\n",
        "\n",
        "visualize_monthly_mean_images_and_export(\n",
        "    monthly_mean_images,\n",
        "    output_directory,\n",
        "    start_year=2018,\n",
        "    start_month=11,\n",
        "    end_year=2023,\n",
        "    end_month=8,\n",
        "    location_bounds=[[28.4042, 76.8377], [28.8835, 77.2780]],  # Bounding box around New Delhi\n",
        "    zoom_start=10,\n",
        "    vis_params={\n",
        "        'min': -1.5,\n",
        "        'max': 1.8,\n",
        "        'palette': ['blue', 'white', 'red']\n",
        "    },\n",
        "    label_location=[28.6139, 77.2090 + 0.20],  # New Delhi's coordinates for label placement\n",
        "    name_prefix=None,\n",
        "    display_maps=True\n",
        ")"
      ],
      "metadata": {
        "id": "K8NioTo1vyxi"
      },
      "execution_count": null,
      "outputs": []
    },
    {
      "cell_type": "markdown",
      "source": [
        "The script seamlessly melds functionalities from various libraries and Google Earth Engine to execute geospatial analysis and visualization tasks. Through a series of defined functions and procedures, it manages to read geometries, convert them to a compatible format, filter datasets based on specified criteria, calculate monthly mean values, and visualize the results interactively. This well-organized script is a valuable asset for anyone looking to explore geospatial data analysis and visualization in Python."
      ],
      "metadata": {
        "id": "LYmxa0lFFDhd"
      }
    }
  ]
}