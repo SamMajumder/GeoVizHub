{
  "nbformat": 4,
  "nbformat_minor": 0,
  "metadata": {
    "colab": {
      "provenance": []
    },
    "kernelspec": {
      "name": "python3",
      "display_name": "Python 3"
    },
    "language_info": {
      "name": "python"
    }
  },
  "cells": [
    {
      "cell_type": "markdown",
      "source": [
        "**INTRODUCTION:**\n",
        "\n",
        "The script elucidated below is designed for monitoring vegetation changes over time in the Sundarbans Mangroves, a significant region spanning across Bangladesh and India. Recognized as the largest mangrove forest globally, the Sundarbans are a UNESCO World Heritage Site and the abode of the renowned Royal Bengal Tiger. This region encapsulates a complex ecosystem comprising mangrove forests, swamps, and tidal waterways. Monitoring the Normalized Difference Vegetation Index (NDVI) in this area is imperative due to its ecological significance and the looming threats from climate change, sea-level rise, and human encroachment.\n",
        "\n",
        "The data employed in this project is retrieved from the MODIS (Moderate Resolution Imaging Spectroradiometer) satellite's MOD13A2 product, courtesy of Kamel Didan - University of Arizona, Alfredo Huete - University of Technology Sydney and MODAPS SIPS - NASA (2015). This product furnishes NDVI values at a 16-day interval, aggregated annually in this analysis to discern the vegetation health and changes over the years in the Sundarbans. The specific dataset being used is MODIS/006/MOD13A2 (https://developers.google.com/earth-engine/datasets/catalog/MODIS_061_MOD13A2)\n",
        "\n",
        "The data processing and analysis entail several crucial steps including data extraction, aggregation, and visualization. This script effectively extracts MODIS NDVI data within the stipulated study period, aggregates the 16-day interval NDVI data to compute the mean NDVI value for each year, and visualizes the mean NDVI values on a map to delineate the spatial distribution of vegetation health in the Sundarbans. Furthermore, it employs Python libraries and tools like Matplotlib to visualize the processed data and fabricates a time-lapse video to vividly exhibit the change in NDVI values over time."
      ],
      "metadata": {
        "id": "xSdojeaL7w7U"
      }
    },
    {
      "cell_type": "markdown",
      "source": [
        "**INSTALL AND LOAD PACKAGES**  \n",
        "\n",
        "Installation of rasterio and importing required libraries for the script execution.\n"
      ],
      "metadata": {
        "id": "69YgoPFDqSLf"
      }
    },
    {
      "cell_type": "code",
      "source": [
        "!pip install rasterio"
      ],
      "metadata": {
        "id": "kxsin3V_m3ZC"
      },
      "execution_count": null,
      "outputs": []
    },
    {
      "cell_type": "code",
      "source": [
        "import ee\n",
        "import numpy as np\n",
        "import pandas as pd\n",
        "import matplotlib.pyplot as plt\n",
        "from PIL import Image, ImageDraw, ImageFont\n",
        "import imageio\n",
        "import os\n",
        "from IPython.display import Image, display\n",
        "from osgeo import gdal\n",
        "import rasterio"
      ],
      "metadata": {
        "id": "pgdjwjvDmsDe"
      },
      "execution_count": null,
      "outputs": []
    },
    {
      "cell_type": "markdown",
      "source": [
        "**AUTHENTICATE EARTH ENGINE**\n",
        "\n",
        "Authentication and initialization of Google Earth Engine to access geospatial datasets."
      ],
      "metadata": {
        "id": "jfGwLFSEqNWI"
      }
    },
    {
      "cell_type": "code",
      "execution_count": null,
      "metadata": {
        "id": "yVc7rx6dmDlW"
      },
      "outputs": [],
      "source": [
        "# Initialize the Earth Engine module\n",
        "ee.Authenticate()\n",
        "ee.Initialize()"
      ]
    },
    {
      "cell_type": "markdown",
      "source": [
        "**CALCULATE YEARLY NDVI VALUES**\n",
        "\n",
        "Defining the region of interest (Sundarbans Mangroves).\n",
        "Creating a function (get_modis_ndvi) to fetch MODIS NDVI data for a specific year.\n",
        "Iterating through the years to calculate the mean NDVI for each year, exporting the results to TIFF images."
      ],
      "metadata": {
        "id": "iD8z0U8Pp-cn"
      }
    },
    {
      "cell_type": "code",
      "source": [
        "# Define the region of interest: Sundarbans Mangroves\n",
        "sundarbans = ee.Geometry.Rectangle([88.0, 21.5, 90.0, 22.5])\n",
        "\n",
        "# Function to get MODIS NDVI data for a specific year\n",
        "def get_modis_ndvi(year):\n",
        "    start_date = f\"{year}-01-01\"\n",
        "    end_date = f\"{year}-12-31\"\n",
        "\n",
        "    # Use MOD13A2.006 product for NDVI\n",
        "    dataset = ee.ImageCollection('MODIS/006/MOD13A2').filterDate(start_date, end_date).filterBounds(sundarbans)\n",
        "\n",
        "    # Extract NDVI and scale it. MODIS NDVI values are scaled by a factor of 0.0001\n",
        "    ndvi = dataset.select('NDVI').mean().multiply(0.0001)\n",
        "\n",
        "    return ndvi\n",
        "\n",
        "# Export each yearly average NDVI image\n",
        "image_list = []\n",
        "for year in range(2000, 2024):\n",
        "    ndvi_image = get_modis_ndvi(year)\n",
        "    out_path = f'/content/NDVI_{year}.tif'\n",
        "    geemap.ee_export_image(ndvi_image, filename=out_path, scale=500, region=sundarbans, file_per_band=False)\n",
        "    image_list.append(out_path)"
      ],
      "metadata": {
        "id": "gglk5JsYmcEx"
      },
      "execution_count": null,
      "outputs": []
    },
    {
      "cell_type": "markdown",
      "source": [
        "**DISPLAY A FEW OF THE PLOTS**  \n",
        "\n",
        "Visualizing a subset of the generated NDVI images for selected years using Matplotlib."
      ],
      "metadata": {
        "id": "tEaiXqWmo4Km"
      }
    },
    {
      "cell_type": "code",
      "source": [
        "\n",
        "# Visualize a few of the downloaded images\n",
        "for year in [2000, 2005, 2010, 2015, 2020]:\n",
        "    img_path = f'/content/NDVI_{year}.tif'\n",
        "    ds = gdal.Open(img_path)\n",
        "    band = ds.GetRasterBand(1)\n",
        "    arr = band.ReadAsArray()\n",
        "    plt.imshow(arr, cmap='BuGn', vmin=-0.1, vmax=0.9)\n",
        "    plt.title(f'NDVI {year}')\n",
        "    plt.colorbar()\n",
        "    plt.show()"
      ],
      "metadata": {
        "id": "41F9svJrpaI5"
      },
      "execution_count": null,
      "outputs": []
    },
    {
      "cell_type": "markdown",
      "source": [
        "**CREATING THE GIF**\n",
        "\n",
        "Defining a function to normalize array values.\n",
        "Iterating through each year to read the NDVI images, normalize and apply a custom colormap, and add a year label to each image.\n",
        "Creating a GIF from the sequence of images to visualize the time-lapse of NDVI values."
      ],
      "metadata": {
        "id": "Gge8hCRVon3C"
      }
    },
    {
      "cell_type": "code",
      "source": [
        "# Directory where the images are saved\n",
        "image_dir = '/content/'\n",
        "\n",
        "# List to store the images\n",
        "images = []\n",
        "\n",
        "# Function to normalize the array values to 0-1 for visualization\n",
        "def normalize(array):\n",
        "    array_min, array_max = array.min(), array.max()\n",
        "    return (array - array_min) / (array_max - array_min)\n",
        "\n",
        "# Define a custom colormap (red-yellow-green)\n",
        "colors = [\"blue\", \"green\"]\n",
        "cmap = plt.cm.colors.LinearSegmentedColormap.from_list(\"\", colors)\n",
        "\n",
        "# Loop through each year and read the images\n",
        "for year in range(2000, 2024):\n",
        "    image_path = os.path.join(image_dir, f'NDVI_{year}.tif')\n",
        "\n",
        "    # Open the image using rasterio\n",
        "    with rasterio.open(image_path) as src:\n",
        "        array = src.read(1)\n",
        "\n",
        "    # Normalize the array values\n",
        "    norm_array = normalize(array)\n",
        "\n",
        "    # Apply the colormap\n",
        "    colored_array = (cmap(norm_array) * 255).astype(np.uint8)\n",
        "\n",
        "    # Convert the colored array to an image\n",
        "    img = Image.fromarray(colored_array)\n",
        "\n",
        "    # Convert to RGB (to ensure compatibility with imageio)\n",
        "    img_rgb = img.convert('RGB')\n",
        "\n",
        "    # Add the year label to the image\n",
        "    draw = ImageDraw.Draw(img_rgb)\n",
        "    font = ImageFont.load_default()\n",
        "    draw.text((20, 20), str(year), font=font, fill=\"white\")\n",
        "\n",
        "    # Append to the images list\n",
        "    images.append(img_rgb)\n",
        "\n",
        "# Create the GIF\n",
        "out_gif_path = '/content/NDVI_timelapse.gif'\n",
        "images[0].save(out_gif_path, save_all=True, append_images=images[1:], loop=0, duration=1000)"
      ],
      "metadata": {
        "id": "FpXjOlHeobMn"
      },
      "execution_count": null,
      "outputs": []
    },
    {
      "cell_type": "markdown",
      "source": [
        "**LABELING GIF**\n",
        "\n",
        "Defining a function to normalize array values.\n",
        "Iterating through each year to read the NDVI images, normalize and apply a custom colormap, and add a year label to each image.\n",
        "Creating a GIF from the sequence of images to visualize the time-lapse of NDVI values."
      ],
      "metadata": {
        "id": "-u9Rhszup4n9"
      }
    },
    {
      "cell_type": "code",
      "source": [
        "# Directory where the images are saved\n",
        "image_dir = '/content/'\n",
        "\n",
        "# List to store the images\n",
        "images = []\n",
        "\n",
        "# Function to normalize the array values to 0-1 for visualization\n",
        "def normalize(array):\n",
        "    array_min, array_max = array.min(), array.max()\n",
        "    return (array - array_min) / (array_max - array_min)\n",
        "\n",
        "\n",
        "for year in range(2000, 2024):\n",
        "    img_path = f\"/content/NDVI_{year}.tif\"\n",
        "    img = rasterio.open(img_path).read(1)\n",
        "\n",
        "    # Normalize the image array between 0 and 1 for visualization\n",
        "    img_norm = (img - img.min()) / (img.max() - img.min())\n",
        "\n",
        "    # Convert the normalized image array to an RGB image using the GnBu colormap\n",
        "    img_rgb = (255 * plt.cm.GnBu_r(img_norm)).astype(np.uint8)\n",
        "\n",
        "    # Convert the RGB image to a PIL Image\n",
        "    img_rgb = Image.fromarray(img_rgb[:, :, :3])\n",
        "\n",
        "    # Add the year label to the image\n",
        "    draw = ImageDraw.Draw(img_rgb)\n",
        "    font = ImageFont.load_default()\n",
        "    draw.text((20, 20), str(year), font=font, fill=\"black\")\n",
        "\n",
        "    # Append the labeled image to the images list\n",
        "    images.append(img_rgb)\n",
        "\n",
        "# Create the GIF\n",
        "out_gif_path = '/content/NDVI_timelapse_2.gif'\n",
        "images[0].save(out_gif_path, save_all=True, append_images=images[1:], loop=0, duration=1000)"
      ],
      "metadata": {
        "id": "PRzoqQJ8pye6"
      },
      "execution_count": null,
      "outputs": []
    },
    {
      "cell_type": "markdown",
      "source": [
        "In summary, this script provides a systematic approach to calculate and visualize the trend of vegetation change over the Sundarbans Mangroves region across a span of 24 years. Through a series of well-structured steps, the script fetches MODIS NDVI data, processes it to calculate yearly mean NDVI, visualizes a subset of the yearly data, and ultimately creates a GIF to illustrate the temporal changes in vegetation. The resulting GIF offers an engaging way to understand the dynamics of vegetation in the region over the years.  \n",
        "\n",
        "DATA CITATION:\n",
        "MODIS/006/MOD13A2:\n",
        "Kamel Didan - University of Arizona, Alfredo Huete - University of Technology Sydney and MODAPS SIPS - NASA. (2015). MOD13A2 MODIS/Terra Vegetation Indices 16-Day L3 Global 1km SIN Grid. NASA LP DAAC. http://doi.org/10.5067/MODIS/MOD13A2.006​1​."
      ],
      "metadata": {
        "id": "RqbkN8cy9OQH"
      }
    }
  ]
}